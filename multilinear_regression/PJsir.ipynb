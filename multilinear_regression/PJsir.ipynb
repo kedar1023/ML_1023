{
 "cells": [
  {
   "cell_type": "code",
   "execution_count": 36,
   "metadata": {},
   "outputs": [
    {
     "name": "stdout",
     "output_type": "stream",
     "text": [
      "   Mile Travel  NumberOfDEliveries  TravelTime\n",
      "0           73                   4          69\n",
      "1           65                   3          57\n",
      "2           89                   5          78\n",
      "3           40                   2          48\n",
      "4           65                   4          56\n",
      "5           43                   2          50\n",
      "6           79                   6          70\n",
      "7           50                   4          87\n",
      "8           23                   1          16\n",
      "<class 'pandas.core.frame.DataFrame'>\n",
      "RangeIndex: 9 entries, 0 to 8\n",
      "Data columns (total 3 columns):\n",
      "Mile Travel           9 non-null int64\n",
      "NumberOfDEliveries    9 non-null int64\n",
      "TravelTime            9 non-null int64\n",
      "dtypes: int64(3)\n",
      "memory usage: 344.0 bytes\n"
     ]
    },
    {
     "data": {
      "text/plain": [
       "0    69\n",
       "1    57\n",
       "2    78\n",
       "3    48\n",
       "4    56\n",
       "5    50\n",
       "6    70\n",
       "7    87\n",
       "8    16\n",
       "Name: TravelTime, dtype: int64"
      ]
     },
     "execution_count": 36,
     "metadata": {},
     "output_type": "execute_result"
    }
   ],
   "source": [
    "\n"
   ]
  }
 ],
 "metadata": {
  "kernelspec": {
   "display_name": "Python 3",
   "language": "python",
   "name": "python3"
  },
  "language_info": {
   "codemirror_mode": {
    "name": "ipython",
    "version": 3
   },
   "file_extension": ".py",
   "mimetype": "text/x-python",
   "name": "python",
   "nbconvert_exporter": "python",
   "pygments_lexer": "ipython3",
   "version": "3.6.8"
  }
 },
 "nbformat": 4,
 "nbformat_minor": 2
}
