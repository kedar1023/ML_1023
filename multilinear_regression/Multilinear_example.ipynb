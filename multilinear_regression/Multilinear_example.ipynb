{
 "cells": [
  {
   "cell_type": "code",
   "execution_count": 13,
   "metadata": {},
   "outputs": [
    {
     "name": "stdout",
     "output_type": "stream",
     "text": [
      "   Mile Travel  NumberOfDEliveries  TravelTime\n",
      "0           73                   4          69\n",
      "1           65                   3          57\n",
      "2           89                   5          78\n",
      "3           40                   2          48\n",
      "4           65                   4          56\n",
      "5           43                   2          50\n",
      "6           79                   6          70\n",
      "7           50                   4          87\n",
      "8           23                   1          16\n",
      "(9, 3)\n"
     ]
    }
   ],
   "source": [
    "import pandas as pd\n",
    "data=pd.read_csv(\"multilinear_example.csv\")\n",
    "print(data)\n",
    "print (data.shape)\n",
    "\n"
   ]
  },
  {
   "cell_type": "code",
   "execution_count": 41,
   "metadata": {},
   "outputs": [
    {
     "name": "stdout",
     "output_type": "stream",
     "text": [
      "0    73\n",
      "1    65\n",
      "2    89\n",
      "3    40\n",
      "4    65\n",
      "5    43\n",
      "6    79\n",
      "7    50\n",
      "8    23\n",
      "Name: Mile Travel, dtype: int64\n"
     ]
    },
    {
     "data": {
      "text/plain": [
       "0    69\n",
       "1    57\n",
       "2    78\n",
       "3    48\n",
       "4    56\n",
       "5    50\n",
       "6    70\n",
       "7    87\n",
       "8    16\n",
       "Name: TravelTime, dtype: int64"
      ]
     },
     "execution_count": 41,
     "metadata": {},
     "output_type": "execute_result"
    }
   ],
   "source": [
    "x=data['Mile Travel']\n",
    "print (x)\n",
    "x=data['Mile Travel'].values\n",
    "x\n",
    "\n",
    "x=x.reshape(-1,1)\n",
    "x\n",
    "\n",
    "y=data['TravelTime']\n",
    "y\n"
   ]
  },
  {
   "cell_type": "code",
   "execution_count": 38,
   "metadata": {},
   "outputs": [],
   "source": [
    "from sklearn.model_selection import train_test_split\n",
    "from sklearn.linear_model import LinearRegression\n",
    "\n"
   ]
  },
  {
   "cell_type": "code",
   "execution_count": 65,
   "metadata": {},
   "outputs": [
    {
     "data": {
      "text/plain": [
       "<matplotlib.collections.PathCollection at 0x7f990dd83ef0>"
      ]
     },
     "execution_count": 65,
     "metadata": {},
     "output_type": "execute_result"
    },
    {
     "data": {
      "image/png": "[encoded data removed]",
      "text/plain": [
       "<Figure size 432x288 with 1 Axes>"
      ]
     },
     "metadata": {
      "needs_background": "light"
     },
     "output_type": "display_data"
    }
   ],
   "source": [
    "regressor=LinearRegression()\n",
    "from sklearn.model_selection import train_test_split\n",
    "\n",
    "X_train,X_test,y_train,y_test=train_test_split(x,y,test_size=0.20,random_state=0)\n",
    "regressor.fit(X_train,y_train)\n",
    "regressor.fit(x,y)\n",
    "regressor.score(x,y)*100\n",
    "\n",
    "\n",
    "\n",
    "\n",
    "\n",
    "import matplotlib.pyplot as plt\n",
    "plt.scatter(x,y)\n",
    "plt.xlabel('MileTravel')\n",
    "plt.ylabel('TravelTime')\n",
    "plt.plot(x,regressor.predict(x),color='red')#x and expected x by calling the predict method\n",
    "regressor.predict([[90]])\n",
    "regressor.score(x,y)\n",
    "plt.scatter(x,y)\n"
   ]
  }
 ],
 "metadata": {
  "kernelspec": {
   "display_name": "Python 3",
   "language": "python",
   "name": "python3"
  },
  "language_info": {
   "codemirror_mode": {
    "name": "ipython",
    "version": 3
   },
   "file_extension": ".py",
   "mimetype": "text/x-python",
   "name": "python",
   "nbconvert_exporter": "python",
   "pygments_lexer": "ipython3",
   "version": "3.6.8"
  }
 },
 "nbformat": 4,
 "nbformat_minor": 2
}
