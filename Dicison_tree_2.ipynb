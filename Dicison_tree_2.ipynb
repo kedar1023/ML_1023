{
 "cells": [
  {
   "cell_type": "code",
   "execution_count": 1,
   "metadata": {},
   "outputs": [
    {
     "data": {
      "text/plain": [
       "{0, 1}"
      ]
     },
     "execution_count": 1,
     "metadata": {},
     "output_type": "execute_result"
    }
   ],
   "source": [
    "import pandas as pd\n",
    "data1=pd.read_csv(\"banknotes.csv\")\n",
    "data1.shape\n",
    "X=data1[['Variance','Skewness','Curtosis','Entropy']]\n",
    "#or data.drop('Class',axis=1)Here Axis 1 is column wise\n",
    "y=data1['Class']\n",
    "#to check any null values\n",
    "X.isnull().sum()\n",
    "#to check value y is there any other than 0 and 1\n",
    "set(y)#return type is set not iterable\n"
   ]
  },
  {
   "cell_type": "code",
   "execution_count": null,
   "metadata": {},
   "outputs": [],
   "source": []
  }
 ],
 "metadata": {
  "kernelspec": {
   "display_name": "Python 3",
   "language": "python",
   "name": "python3"
  },
  "language_info": {
   "codemirror_mode": {
    "name": "ipython",
    "version": 3
   },
   "file_extension": ".py",
   "mimetype": "text/x-python",
   "name": "python",
   "nbconvert_exporter": "python",
   "pygments_lexer": "ipython3",
   "version": "3.6.8"
  }
 },
 "nbformat": 4,
 "nbformat_minor": 2
}
